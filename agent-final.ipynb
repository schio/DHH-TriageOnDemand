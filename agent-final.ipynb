{
 "cells": [
  {
   "cell_type": "code",
   "execution_count": null,
   "metadata": {},
   "outputs": [],
   "source": [
    "import time\n",
    "import random"
   ]
  },
  {
   "cell_type": "code",
   "execution_count": null,
   "metadata": {},
   "outputs": [],
   "source": [
    "class Patient:\n",
    "    def __init__(self,userId,faceImage,age,isMale,time,latitude,longtitude,isWalk,mentalStatus,movedHospital,isAlive,\n",
    "                 firstTriage,lastTriage,adm,name,blood,nation,calamityName,calamityType,outComplain,inComplain,isTrauma):\n",
    "        # state data\n",
    "        self.userId = userId\n",
    "        self.faceImage = faceImage\n",
    "        self.age = age\n",
    "        self.isMale = isMale\n",
    "        self.time = time\n",
    "        self.latitude = latitude\n",
    "        self.longtitude = longtitude\n",
    "        self.isWalk = isWalk\n",
    "        self.mentalStatus = mentalStatus\n",
    "        self.movedHospital = movedHospital\n",
    "        self.isAlive = isAlive\n",
    "        self.firstTriage = firstTriage\n",
    "        self.lastTriage = lastTriage\n",
    "        self.adm = adm\n",
    "        self.name = name\n",
    "        self.blood = blood\n",
    "        self.nation = nation\n",
    "        self.calamityName = calamityName\n",
    "        self.calamityType = calamityType\n",
    "        \n",
    "        # device sensing data\n",
    "#         self.sbp = sbp\n",
    "#         self.hr = hr\n",
    "#         self.rr = rr\n",
    "#         self.sao2 = sao2\n",
    "#         self.realTime = realTime\n",
    "        self.outComplain = outComplain\n",
    "        self.inComplain = inComplain\n",
    "        self.isTrauma = isTrauma\n",
    "#         self.temperature = temperature\n",
    "#         self.triage = triage\n",
    "        \n",
    "    \n",
    "    def make_data(self) :\n",
    "        self.realTime = time.time()\n",
    "\n",
    "        if self.firstTriage == \"green\":\n",
    "\n",
    "            self.sbp = random.uniform(101.0,199)\n",
    "            self.hr = random.uniform(51.0,100)\n",
    "            self.rr = random.uniform(9,14)\n",
    "            self.sao2 = random.uniform(92,100)\n",
    "            self.temperature = random.uniform(35,38.4)\n",
    "            self.triage = self.firstTriage \n",
    "\n",
    "        elif self.firstTriage == \"yellow\":\n",
    "\n",
    "            self.sbp = random.uniform(81.0,250)\n",
    "            self.hr = random.uniform(41,129)\n",
    "            self.rr = random.uniform(9,29)\n",
    "            self.sao2 = random.uniform(85,200)\n",
    "            self.temperature = random.uniform(35.0,38.5)\n",
    "            self.triage = self.firstTriage \n",
    "\n",
    "        elif self.firstTriage == \"red\":\n",
    "\n",
    "            self.sbp = random.uniform(50,80)\n",
    "            self.hr = random.uniform(0,40)\n",
    "            self.rr = random.uniform(0,9)\n",
    "            self.sao2 = random.uniform(50,85.0)\n",
    "            self.temperature = random.uniform(30,35)\n",
    "            self.triage = self.firstTriage \n",
    "\n",
    "        else:\n",
    "\n",
    "            self.sbp = random.uniform(0,1)\n",
    "            self.hr = random.uniform(0,1)\n",
    "            self.rr = random.uniform(0,1)\n",
    "            self.sao2 = random.uniform(0,1)\n",
    "            self.temperature = random.uniform(0,1)\n",
    "            self.triage = self.firstTriage "
   ]
  },
  {
   "cell_type": "markdown",
   "metadata": {},
   "source": [
    "# 영역 범위"
   ]
  },
  {
   "cell_type": "code",
   "execution_count": 3,
   "metadata": {},
   "outputs": [],
   "source": [
    "truth_list = [0,1]\n",
    "hospital_list = ['A', 'B', 'C']\n",
    "mentalStatus_list = ['alert','voice','pain','unresponsive']\n",
    "isAlive_list = [1,1,1,1,1,1,1,1,0]\n",
    "firstTriage_list = ['green','red','yellow','black']\n",
    "adm_list = ['a','b','c','d']\n",
    "blood_list = ['A','B','AB','O']\n",
    "outComplain_list = ['머리골절', '좌팔자상', '가슴열상', '등찰과상', '골반골절','']\n",
    "inComplain_list = ['숨참','흉통','두통','어지러움']\n",
    "isTrauma =[0,1]"
   ]
  },
  {
   "cell_type": "markdown",
   "metadata": {},
   "source": [
    "# 초기값 설정"
   ]
  },
  {
   "cell_type": "code",
   "execution_count": 4,
   "metadata": {},
   "outputs": [],
   "source": [
    "totalNum = 25\n",
    "list_userId = range(1,totalNum)\n",
    "list_faceImage = ['address' for i in range(1,totalNum)]\n",
    "list_age = [53,7,47,43,57,28,68,42,3,2,17,61,49,8,36,49,52,49,39,48,23,52,41,45]\n",
    "list_isMale = [1,1,0,0,0,1,1,1,1,0,0,1,1,1,0,1,1,0,0,1,0,1,1,1]\n",
    "list_latitude = [random.uniform(30,40) for i in range(1,totalNum)]\n",
    "list_longtitude = [random.uniform(30,40) for i in range(1,totalNum)]\n",
    "list_isWalk = [random.choice(truth_list) for i in range(1,totalNum)]\n",
    "list_mentalStatus = ['alert','alert','alert','alert','alert','alert','unresponsive','unresponsive','alert','unresponsive','unresponsive','alert','unresponsive','unresponsive','unresponsive','unresponsive','alert','unresponsive','unresponsive','unresponsive','voice','pain','unresponsive','unresponsive']\n",
    "list_movedHospital = ['A','A','A','A','A','A','A','C','A','A','B','B','A','A','A','A','B','C','E','A','D','A','A','F']\n",
    "list_isAlive = [1,1,1,1,1,1,0,0,1,0,0,1,0,0,0,0,1,0,0,1,1,1,0,0]\n",
    "list_firstTriage = ['yellow','green','yellow','yellow','yellow','green','black','black','yellow','black','black','yellow','black','black','black','black','yellow','black','black','red','red','red','black','black']\n",
    "list_secondTriage = [random.choice(firstTriage_list) for i in range(1,totalNum)]\n",
    "list_name = ['미상' for i in range(1,totalNum)]\n",
    "list_adm = [random.choice(adm_list) for i in range(1,totalNum)]\n",
    "list_blood = [random.choice(blood_list) for i in range(1,totalNum)]\n",
    "list_outComplain = [random.choice(outComplain_list) for i in range(1,totalNum)]\n",
    "list_inComplain = [random.choice(inComplain_list) for i in range(1,totalNum)]\n",
    "list_isTrauma = []\n",
    "for i in list_outComplain:\n",
    "    if i == None :\n",
    "        list_isTrauma.append(0)\n",
    "    else:\n",
    "        list_isTrauma.append(1)"
   ]
  },
  {
   "cell_type": "markdown",
   "metadata": {},
   "source": []
  },
  {
   "cell_type": "code",
   "execution_count": 5,
   "metadata": {},
   "outputs": [],
   "source": [
    "patient = []\n",
    "for i in range(0,totalNum-1):\n",
    "    patient.append(Patient(list_userId[i],list_faceImage[i],list_age[i],list_isMale[i],time.time(),list_latitude[i],list_longtitude[i],\n",
    "                      list_isWalk[i],list_mentalStatus[i],list_movedHospital[i],list_isAlive[i],list_firstTriage[i],list_secondTriage[i],\n",
    "                      list_adm[i],list_name[i],'','대한민국','인천버스추락사고','교통재난',list_outComplain[i],list_inComplain[i],\n",
    "                      list_isTrauma[i]))\n",
    "                      "
   ]
  },
  {
   "cell_type": "code",
   "execution_count": 6,
   "metadata": {
    "scrolled": true
   },
   "outputs": [
    {
     "data": {
      "text/plain": [
       "24"
      ]
     },
     "execution_count": 6,
     "metadata": {},
     "output_type": "execute_result"
    }
   ],
   "source": [
    "len(patient)"
   ]
  },
  {
   "cell_type": "code",
   "execution_count": 7,
   "metadata": {},
   "outputs": [],
   "source": [
    "import pymysql\n",
    "conn=pymysql.connect(host='106.10.51.40',port=3306,user='root',password='tmwlsxm!19',db='sjt')\n",
    "curs = conn.cursor()\n",
    "# curs.execute(sql)\n"
   ]
  },
  {
   "cell_type": "markdown",
   "metadata": {},
   "source": [
    "# user 추가"
   ]
  },
  {
   "cell_type": "code",
   "execution_count": 8,
   "metadata": {},
   "outputs": [],
   "source": [
    "def add_user():\n",
    "    for i in range(0,totalNum-1):\n",
    "        sql=\"\"\"insert into sjt_user(faceId,age,isMail,latitude,longtitude,mentalStatus,movedHospital,isWalk,isAlive,\\\n",
    "        firstTriage, amd, name, blood, nation, calamityName, calamityType) values(\"{}\", {}, {}, {}, {}, \"{}\", \"{}\", {}, {}, \"{}\", \"{}\", \"{}\", \"{}\", \"{}\", \"{}\", \"{}\")\"\"\"\n",
    "        a = sql.format(list_faceImage[i],list_age[i],list_isMale[i],round(list_latitude[i],2),round(list_longtitude[i],2),\n",
    "                                list_mentalStatus[i],list_movedHospital[i],list_isWalk[i],list_isAlive[i],list_firstTriage[i],list_adm[i],\n",
    "                                list_name[i],list_blood[i],'대한민국','인천차량추락사고','교통재난')\n",
    "        print(a)\n",
    "        curs.execute(a)\n",
    "    conn.commit()\n"
   ]
  },
  {
   "cell_type": "code",
   "execution_count": 9,
   "metadata": {},
   "outputs": [
    {
     "name": "stdout",
     "output_type": "stream",
     "text": [
      "86519\n"
     ]
    }
   ],
   "source": [
    "curs.execute(\"select * from sjt_device_data\")\n",
    "print(len(curs.fetchall()))"
   ]
  },
  {
   "cell_type": "code",
   "execution_count": 10,
   "metadata": {},
   "outputs": [],
   "source": [
    "# for p in patient[0:totalNum-1]:\n",
    "#     p.make_data()\n",
    "#     sql=\"\"\"insert into sjt_device_data (patientId,sbp,hr,rr,saO2,time,outComplain,inComplain,isTrauma,temp,triage) \\\n",
    "#     values({},{},{},{},{},FROM_UNIXTIME({}),\"{}\",\"{}\",{},{},\"{}\")\"\"\"\n",
    "#     a = sql.format(p.userId,p.sbp,p.hr,p.rr,p.sao2,int(time.time()),p.outComplain,p.inComplain,p.isTrauma,p.temperature,p.triage)\n",
    "    \n",
    "#     print(a)\n",
    "#     curs.execute(a)\n",
    "# conn.commit()\n"
   ]
  },
  {
   "cell_type": "code",
   "execution_count": 11,
   "metadata": {},
   "outputs": [
    {
     "name": "stdout",
     "output_type": "stream",
     "text": [
      "((86519,),)\n"
     ]
    }
   ],
   "source": [
    "curs.execute(\"select count(patientId) from sjt_device_data\")\n",
    "print(curs.fetchall())"
   ]
  },
  {
   "cell_type": "code",
   "execution_count": 12,
   "metadata": {},
   "outputs": [],
   "source": [
    "patient[0].userId\n",
    "patient[0].outComplain= '등찰과상'"
   ]
  },
  {
   "cell_type": "code",
   "execution_count": 13,
   "metadata": {},
   "outputs": [],
   "source": [
    "patient[0].inComplain= '숨참'\n",
    "patient[0].firstTriage = 'yellow'"
   ]
  },
  {
   "cell_type": "code",
   "execution_count": 14,
   "metadata": {},
   "outputs": [
    {
     "name": "stdout",
     "output_type": "stream",
     "text": [
      "1\n"
     ]
    }
   ],
   "source": [
    "print(patient[0].userId)"
   ]
  },
  {
   "cell_type": "code",
   "execution_count": null,
   "metadata": {},
   "outputs": [],
   "source": [
    "import time\n",
    "from datetime import datetime\n",
    "while 1:\n",
    "    for p in patient[0:1]:\n",
    "        p.make_data()\n",
    "        sql=\"\"\"insert into sjt_device_data (patientId,sbp,hr,rr,saO2,time,outComplain,inComplain,isTrauma,temp,triage) \\\n",
    "        values({},{},{},{},{},FROM_UNIXTIME({}),\"{}\",\"{}\",{},{},\"{}\")\"\"\"\n",
    "        ssql = sql.format(p.userId,p.sbp,p.hr,p.rr,p.sao2,int(time.time()),p.outComplain,p.inComplain,p.isTrauma,p.temperature,p.triage)\n",
    "        curs.execute(ssql)\n",
    "    conn.commit()                      \n",
    "    time.sleep(5)"
   ]
  },
  {
   "cell_type": "code",
   "execution_count": null,
   "metadata": {},
   "outputs": [],
   "source": []
  },
  {
   "cell_type": "code",
   "execution_count": null,
   "metadata": {},
   "outputs": [],
   "source": []
  },
  {
   "cell_type": "code",
   "execution_count": null,
   "metadata": {},
   "outputs": [],
   "source": []
  },
  {
   "cell_type": "code",
   "execution_count": null,
   "metadata": {},
   "outputs": [],
   "source": []
  }
 ],
 "metadata": {
  "kernelspec": {
   "display_name": "Python 3",
   "language": "python",
   "name": "python3"
  },
  "language_info": {
   "codemirror_mode": {
    "name": "ipython",
    "version": 3
   },
   "file_extension": ".py",
   "mimetype": "text/x-python",
   "name": "python",
   "nbconvert_exporter": "python",
   "pygments_lexer": "ipython3",
   "version": "3.5.2"
  }
 },
 "nbformat": 4,
 "nbformat_minor": 2
}
