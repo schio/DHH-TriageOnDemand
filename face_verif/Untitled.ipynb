{
 "cells": [
  {
   "cell_type": "code",
   "execution_count": 1,
   "metadata": {},
   "outputs": [],
   "source": [
    "import urllib.parse as up"
   ]
  },
  {
   "cell_type": "code",
   "execution_count": 2,
   "metadata": {},
   "outputs": [],
   "source": [
    "url = 'http://api.phople.us/me?user=길동&pass=1234#intro'"
   ]
  },
  {
   "cell_type": "code",
   "execution_count": 6,
   "metadata": {},
   "outputs": [
    {
     "name": "stdout",
     "output_type": "stream",
     "text": [
      "ParseResult(scheme='http', netloc='api.phople.us', path='/me', params='', query='user=길동&pass=1234', fragment='intro')\n",
      "http://base.com/child#section\n",
      "DefragResult(url='http://api.phople.us/me?user=길동&pass=1234', fragment='intro')\n"
     ]
    }
   ],
   "source": [
    "print(up.urlparse(url))#ParseResult(scheme='http', netloc='api.phople.us', path='/me', params='', query='user=길동&pass=1234', fragment='intro') \n",
    "print(up.urljoin('http://base.com', 'child#section')) # http://base.com/child#section \n",
    "print(up.urldefrag(url)) # DefragResult(url='http://api.phople.us/me?user=길동&pass=1234', fragment='intro')"
   ]
  },
  {
   "cell_type": "code",
   "execution_count": null,
   "metadata": {},
   "outputs": [],
   "source": []
  }
 ],
 "metadata": {
  "kernelspec": {
   "display_name": "Python 3",
   "language": "python",
   "name": "python3"
  },
  "language_info": {
   "codemirror_mode": {
    "name": "ipython",
    "version": 3
   },
   "file_extension": ".py",
   "mimetype": "text/x-python",
   "name": "python",
   "nbconvert_exporter": "python",
   "pygments_lexer": "ipython3",
   "version": "3.5.2"
  }
 },
 "nbformat": 4,
 "nbformat_minor": 2
}
