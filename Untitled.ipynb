{
 "cells": [
  {
   "cell_type": "code",
   "execution_count": 2,
   "metadata": {},
   "outputs": [],
   "source": [
    "import pymysql\n",
    "conn=pymysql.connect(host='106.10.51.40',port=3306,user='root',password='tmwlsxm!19',db='sjt')\n",
    "curs = conn.cursor()\n",
    "# curs.execute(sql)\n"
   ]
  },
  {
   "cell_type": "code",
   "execution_count": 3,
   "metadata": {},
   "outputs": [
    {
     "data": {
      "text/plain": [
       "(('김미상', 53, 1, 'yellow', '등찰과상'),\n",
       " ('박미상', 7, 1, 'green', ''),\n",
       " ('정미상', 47, 0, 'yellow', '머리골절'),\n",
       " ('최미상', 43, 0, 'yellow', '등찰과상'),\n",
       " ('이미상', 57, 0, 'yellow', '골반골절'),\n",
       " ('미상', 28, 1, 'unknown', 'unknown'),\n",
       " ('미상', 68, 1, 'unknown', 'unknown'),\n",
       " ('미상', 42, 1, 'unknown', 'unknown'),\n",
       " ('미상', 3, 1, 'unknown', 'unknown'),\n",
       " ('미상', 2, 0, 'unknown', 'unknown'),\n",
       " ('미상', 17, 0, 'unknown', 'unknown'),\n",
       " ('미상', 61, 1, 'unknown', 'unknown'),\n",
       " ('미상', 49, 1, 'unknown', 'unknown'),\n",
       " ('미상', 8, 1, 'unknown', 'unknown'),\n",
       " ('미상', 36, 0, 'unknown', 'unknown'),\n",
       " ('미상', 49, 1, 'unknown', 'unknown'),\n",
       " ('미상', 52, 1, 'unknown', 'unknown'),\n",
       " ('미상', 49, 0, 'unknown', 'unknown'),\n",
       " ('미상', 39, 0, 'unknown', 'unknown'),\n",
       " ('미상', 48, 1, 'unknown', 'unknown'),\n",
       " ('미상', 23, 0, 'unknown', 'unknown'),\n",
       " ('미상', 52, 1, 'unknown', 'unknown'),\n",
       " ('미상', 41, 1, 'unknown', 'unknown'),\n",
       " ('미상', 45, 1, 'unknown', 'unknown'),\n",
       " ('미상', 53, 1, 'unknown', 'unknown'),\n",
       " ('미상', 7, 1, 'unknown', 'unknown'),\n",
       " ('미상', 47, 0, 'unknown', 'unknown'),\n",
       " ('미상', 43, 0, 'unknown', 'unknown'),\n",
       " ('미상', 57, 0, 'unknown', 'unknown'),\n",
       " ('미상', 28, 1, 'unknown', 'unknown'),\n",
       " ('미상', 68, 1, 'unknown', 'unknown'),\n",
       " ('미상', 42, 1, 'unknown', 'unknown'),\n",
       " ('미상', 3, 1, 'unknown', 'unknown'),\n",
       " ('미상', 2, 0, 'unknown', 'unknown'),\n",
       " ('미상', 17, 0, 'unknown', 'unknown'),\n",
       " ('미상', 61, 1, 'unknown', 'unknown'),\n",
       " ('미상', 49, 1, 'unknown', 'unknown'),\n",
       " ('미상', 8, 1, 'unknown', 'unknown'),\n",
       " ('미상', 36, 0, 'unknown', 'unknown'),\n",
       " ('미상', 49, 1, 'unknown', 'unknown'),\n",
       " ('미상', 52, 1, 'unknown', 'unknown'),\n",
       " ('미상', 49, 0, 'unknown', 'unknown'),\n",
       " ('미상', 39, 0, 'unknown', 'unknown'),\n",
       " ('미상', 48, 1, 'unknown', 'unknown'),\n",
       " ('미상', 23, 0, 'unknown', 'unknown'),\n",
       " ('미상', 52, 1, 'unknown', 'unknown'),\n",
       " ('미상', 41, 1, 'unknown', 'unknown'),\n",
       " ('미상', 45, 1, 'unknown', 'unknown'))"
      ]
     },
     "execution_count": 3,
     "metadata": {},
     "output_type": "execute_result"
    }
   ],
   "source": [
    "\n",
    "sql = 'select su.name as name, su.age as age, su.isMail as isMail, \\\n",
    "ifnull((select triage from sjt_device_data where patientId = su.id order by id desc limit 1), \"unknown\") as triage, \\\n",
    "ifnull((select outComplain from sjt_device_data where patientId = su.id order by id desc limit 1), \"unknown\") as outComplain \\\n",
    "from sjt_user su'\n",
    "\n",
    "curs.execute(sql)\n",
    "curs.fetchall()"
   ]
  },
  {
   "cell_type": "code",
   "execution_count": null,
   "metadata": {},
   "outputs": [],
   "source": [
    "curs.execute(\"select age, isMail, name from sjt_user\")\n",
    "print(curs.fetchall()[0:1])"
   ]
  },
  {
   "cell_type": "code",
   "execution_count": null,
   "metadata": {},
   "outputs": [],
   "source": [
    "curs.execute(\"select patientId from sjt_device_data\")\n",
    "print(curs.fetchall()[])"
   ]
  },
  {
   "cell_type": "code",
   "execution_count": null,
   "metadata": {},
   "outputs": [],
   "source": [
    "curs.execute('select id,age,name,isMail from sjt_user')\n",
    "patient = curs.fetchall()\n",
    "print(patient[0][0])\n",
    "sql = 'select outComplain from sjt_device_data where id = {}'.format(str(patient[0][0]))\n",
    "a = curs.execute(sql)\n",
    "print(a)"
   ]
  },
  {
   "cell_type": "code",
   "execution_count": null,
   "metadata": {},
   "outputs": [],
   "source": [
    "curs.execute('select outComplain from sjt_device_data')\n",
    "curs.fetchall()"
   ]
  },
  {
   "cell_type": "code",
   "execution_count": null,
   "metadata": {},
   "outputs": [],
   "source": [
    "patient[0]"
   ]
  },
  {
   "cell_type": "code",
   "execution_count": null,
   "metadata": {},
   "outputs": [],
   "source": [
    "class Patient:\n",
    "    def __init__(self,userId,name,age,isMale,)\n",
    "    (self,userId,age,isMale,time,latitude,longtitude,isWalk,mentalStatus,movedHospital,isAlive,\n",
    "                 firstTriage,lastTriage,adm,name,blood,nation,calamityName,calamityType,outComplain,inComplain,isTrauma,faceImage):"
   ]
  },
  {
   "cell_type": "code",
   "execution_count": null,
   "metadata": {},
   "outputs": [],
   "source": [
    "import time\n",
    "from datetime import datetime\n",
    "pid = 1\n",
    "startTime = datetime(2010,7,3,13,7,30)\n",
    "startUnixTime = int(time.mktime(startTime.timetuple()))\n",
    "endTime = datetime(2010,7,3,13,12,30)\n",
    "endUnixTime = int(time.mktime(endTime.timetuple()))"
   ]
  },
  {
   "cell_type": "code",
   "execution_count": null,
   "metadata": {},
   "outputs": [],
   "source": [
    "sql_rr = 'SELECT rr FROM sjt_device_data WHERE  patientId = {} AND from_unixtime({}) < time AND from_unixtime({})'\n",
    "curs.execute(sql_rr.format(pid,startUnixTime,endUnixTime))\n",
    "rr_data = curs.fetchall()\n",
    "print(rr_data)"
   ]
  },
  {
   "cell_type": "code",
   "execution_count": null,
   "metadata": {},
   "outputs": [],
   "source": [
    "pid = 1\n",
    "sql = 'SELECT sbp,rr,hr,saO2 FROM sjt_device_data WHERE  patientId = {} AND from_unixtime({}) < time AND from_unixtime({})'\n",
    "curs.execute(sql.format(pid,startUnixTime,endUnixTime))\n",
    "vital_data = curs.fetchall()"
   ]
  },
  {
   "cell_type": "code",
   "execution_count": null,
   "metadata": {},
   "outputs": [],
   "source": [
    "time_list = []\n",
    "vital_list = [[],[],[],[]]\n",
    "a=0\n",
    "for i in vital_data[0:30]:\n",
    "    time_list.append(a)\n",
    "    for index in range(0,4):\n",
    "        if index == 1:\n",
    "            vital_list[index].append(round(float(i[index]),2))\n",
    "        else:\n",
    "            vital_list[index].append(i[index])\n",
    "    a += 1"
   ]
  },
  {
   "cell_type": "code",
   "execution_count": null,
   "metadata": {},
   "outputs": [],
   "source": [
    "import datetime as dt\n",
    "import matplotlib.pyplot as plt\n",
    "# Preparation\n",
    "fig = plt.figure(figsize=(16,3))\n",
    "plt.plot(time_list,vital_list[0],linestyle='-', marker='o', label=\"value\")\n",
    "\n",
    "plt.xlabel('time')\n",
    "plt.legend(loc=2)\n",
    "plt.show()"
   ]
  },
  {
   "cell_type": "code",
   "execution_count": null,
   "metadata": {},
   "outputs": [],
   "source": [
    "print(vital_list[1])"
   ]
  },
  {
   "cell_type": "code",
   "execution_count": null,
   "metadata": {},
   "outputs": [],
   "source": [
    "fig = plt.figure(figsize=(16,3))\n",
    "plt.plot(time_list,vital_list[1],linestyle='-', marker='o', label=\"value\")\n",
    "\n",
    "plt.xlabel('time')\n",
    "plt.legend(loc=2)\n",
    "plt.show()"
   ]
  },
  {
   "cell_type": "code",
   "execution_count": null,
   "metadata": {},
   "outputs": [],
   "source": [
    "fig = plt.figure(figsize=(16,3))\n",
    "plt.plot(time_list,vital_list[2],linestyle='-', marker='o', label=\"value\")\n",
    "\n",
    "plt.xlabel('time')\n",
    "plt.legend(loc=2)\n",
    "plt.show()"
   ]
  },
  {
   "cell_type": "code",
   "execution_count": null,
   "metadata": {},
   "outputs": [],
   "source": [
    "fig = plt.figure(figsize=(16,3))\n",
    "plt.plot(time_list,vital_list[3],linestyle='-', marker='o', label=\"value\")\n",
    "\n",
    "plt.xlabel('time')\n",
    "plt.legend(loc=2)\n",
    "plt.show()"
   ]
  },
  {
   "cell_type": "code",
   "execution_count": null,
   "metadata": {},
   "outputs": [],
   "source": []
  }
 ],
 "metadata": {
  "kernelspec": {
   "display_name": "Python 3",
   "language": "python",
   "name": "python3"
  },
  "language_info": {
   "codemirror_mode": {
    "name": "ipython",
    "version": 3
   },
   "file_extension": ".py",
   "mimetype": "text/x-python",
   "name": "python",
   "nbconvert_exporter": "python",
   "pygments_lexer": "ipython3",
   "version": "3.5.2"
  }
 },
 "nbformat": 4,
 "nbformat_minor": 2
}
